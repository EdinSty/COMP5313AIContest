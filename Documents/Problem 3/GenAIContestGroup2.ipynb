{
  "nbformat": 4,
  "nbformat_minor": 0,
  "metadata": {
    "colab": {
      "provenance": []
    },
    "kernelspec": {
      "name": "python3",
      "display_name": "Python 3"
    },
    "language_info": {
      "name": "python"
    }
  },
  "cells": [
    {
      "cell_type": "markdown",
      "source": [
        "**OpenAI Chat Bot Base**"
      ],
      "metadata": {
        "id": "xHtbg9XiLF6P"
      }
    },
    {
      "cell_type": "code",
      "source": [
        "import openai\n",
        "\n",
        "# Set your OpenAI API key\n",
        "openai.api_key = \"\"\n",
        "\n",
        "def chatbot(prompt):\n",
        "    try:\n",
        "        # Send the user's input to the OpenAI API\n",
        "        response = openai.ChatCompletion.create(\n",
        "            model=\"gpt-3.5-turbo\",  # Use the latest and most cost-effective model\n",
        "            messages=[\n",
        "                {\"role\": \"system\", \"content\": \"You are a helpful assistant.\"},\n",
        "                {\"role\": \"user\", \"content\": prompt}\n",
        "            ],\n",
        "            temperature=0.7,  # Adjust creativity level\n",
        "            max_tokens=500    # Limit the response length\n",
        "        )\n",
        "        # Extract and return the response\n",
        "        return response['choices'][0]['message']['content']\n",
        "    except Exception as e:\n",
        "        return f\"Error: {e}\"\n",
        "\n",
        "# Main loop for the chatbot\n",
        "if __name__ == \"__main__\":\n",
        "    print(\"Chatbot is running! Type 'exit' to stop.\")\n",
        "    while True:\n",
        "        user_input = \"Exit\"\n",
        "        if user_input.lower() == \"exit\":\n",
        "            print(\"Goodbye!\")\n",
        "            break\n",
        "        response = chatbot(user_input)\n",
        "        print(f\"Bot: {response}\")\n"
      ],
      "metadata": {
        "colab": {
          "base_uri": "https://localhost:8080/"
        },
        "id": "AWvrY2TIT26T",
        "outputId": "9e76e03b-e067-4d1f-cc7c-77dab68f3f21"
      },
      "execution_count": 37,
      "outputs": [
        {
          "output_type": "stream",
          "name": "stdout",
          "text": [
            "Chatbot is running! Type 'exit' to stop.\n",
            "Goodbye!\n"
          ]
        }
      ]
    },
    {
      "cell_type": "markdown",
      "source": [
        "**USACO 2024 US Open Contest, Platinum - Problem 3. Activating Robots**\n",
        "\n",
        "*Result from ChatGPT*"
      ],
      "metadata": {
        "id": "_ylxPAyVLWPk"
      }
    },
    {
      "cell_type": "code",
      "source": [
        "def compute_minimum_time(L, R, N, K, activation_points):\n",
        "    # Sort activation points for easier traversal\n",
        "    activation_points.sort()\n",
        "    # Desired spacing between robots\n",
        "    segment_length = L // R\n",
        "    # Calculate target positions for R robots\n",
        "    target_positions = [(i * segment_length) % L for i in range(R)]\n",
        "    target_positions.sort()\n",
        "\n",
        "    min_time = float('inf')\n",
        "\n",
        "    for start_point in activation_points:\n",
        "        # Time to reach the activation point\n",
        "        travel_time = min(start_point, L - start_point)  # Minimum clockwise/counterclockwise\n",
        "\n",
        "        # Simulate robots moving\n",
        "        max_wait_time = 0\n",
        "        for i, target in enumerate(target_positions):\n",
        "            # Calculate when the robot from this point would align\n",
        "            relative_position = (start_point + i * segment_length) % L\n",
        "            wait_time = (target - relative_position) % L\n",
        "            max_wait_time = max(max_wait_time, wait_time * K)\n",
        "\n",
        "        # Total time is travel + alignment wait\n",
        "        total_time = travel_time + max_wait_time\n",
        "        min_time = min(min_time, total_time)\n",
        "\n",
        "    return min_time"
      ],
      "metadata": {
        "id": "dugqJmy4GEPz"
      },
      "execution_count": 21,
      "outputs": []
    },
    {
      "cell_type": "markdown",
      "source": [
        "*ChatGPT result test*"
      ],
      "metadata": {
        "id": "NG-Yx-ziLkub"
      }
    },
    {
      "cell_type": "code",
      "source": [
        "def test_cases():\n",
        "    test_data = [\n",
        "        (\"10 2 1 2\\n6\", 22),\n",
        "        (\"10 2 1 2\\n7\", 4),\n",
        "        (\"32 4 5 2\\n0 23 12 5 11\", 48),\n",
        "        (\"24 3 1 2\\n16\", 48),\n",
        "    ]\n",
        "\n",
        "    failed_tests = 0\n",
        "\n",
        "    for i, (input_data, expected_output) in enumerate(test_data, start=1):\n",
        "        print(f\"Test Case {i}:\")\n",
        "        print(f\"Input:\\n{input_data}\")\n",
        "        print(\"Expected Output:\", expected_output)\n",
        "\n",
        "        try:\n",
        "            input_lines = input_data.split(\"\\n\")\n",
        "            L, R, N, K = map(int, input_lines[0].split())\n",
        "            activation_points = list(map(int, input_lines[1].split()))\n",
        "\n",
        "            result = compute_minimum_time(L, R, N, K, activation_points)\n",
        "            print(\"Output:\", result)\n",
        "\n",
        "            if result == expected_output:\n",
        "                print(\"Test Case Passed!\\n\")\n",
        "            else:\n",
        "                print(\"Test Case Failed!\")\n",
        "                print(f\"Reason: Expected {expected_output}, but got {result}.\\n\")\n",
        "                failed_tests += 1\n",
        "\n",
        "        except Exception as e:\n",
        "            print(\"Test Case Failed!\")\n",
        "            print(f\"Error: {e}\\n\")\n",
        "            failed_tests += 1\n",
        "\n",
        "    print(f\"Testing Complete: {len(test_data)} cases run, {failed_tests} failed.\\n\")\n",
        "\n",
        "test_cases()"
      ],
      "metadata": {
        "colab": {
          "base_uri": "https://localhost:8080/"
        },
        "id": "pY0QsdwDGxCF",
        "outputId": "b424d740-5db7-43cf-9733-4529bb953f03"
      },
      "execution_count": 22,
      "outputs": [
        {
          "output_type": "stream",
          "name": "stdout",
          "text": [
            "Test Case 1:\n",
            "Input:\n",
            "10 2 1 2\n",
            "6\n",
            "Expected Output: 22\n",
            "Output: 12\n",
            "Test Case Failed!\n",
            "Reason: Expected 22, but got 12.\n",
            "\n",
            "Test Case 2:\n",
            "Input:\n",
            "10 2 1 2\n",
            "7\n",
            "Expected Output: 4\n",
            "Output: 9\n",
            "Test Case Failed!\n",
            "Reason: Expected 4, but got 9.\n",
            "\n",
            "Test Case 3:\n",
            "Input:\n",
            "32 4 5 2\n",
            "0 23 12 5 11\n",
            "Expected Output: 48\n",
            "Output: 0\n",
            "Test Case Failed!\n",
            "Reason: Expected 48, but got 0.\n",
            "\n",
            "Test Case 4:\n",
            "Input:\n",
            "24 3 1 2\n",
            "16\n",
            "Expected Output: 48\n",
            "Output: 24\n",
            "Test Case Failed!\n",
            "Reason: Expected 48, but got 24.\n",
            "\n",
            "Testing Complete: 4 cases run, 4 failed.\n",
            "\n"
          ]
        }
      ]
    },
    {
      "cell_type": "markdown",
      "source": [
        "*Result from AgentGPT*"
      ],
      "metadata": {
        "id": "e8WSvQkyPE4H"
      }
    },
    {
      "cell_type": "code",
      "source": [
        "def min_time_to_place_robots(L, R, N, K, activation_points):\n",
        "    # Sort activation points for easier calculation\n",
        "    activation_points.sort()\n",
        "\n",
        "    # Calculate the distance between each robot\n",
        "    distance_between_robots = L // R\n",
        "\n",
        "    # Initialize the minimum time to a large value\n",
        "    min_time = float('inf')\n",
        "\n",
        "    # Function to calculate the time to reach a point\n",
        "    def time_to_reach(start, end):\n",
        "        return min(abs(end - start), L - abs(end - start))\n",
        "\n",
        "    # Iterate over each activation point\n",
        "    for point in activation_points:\n",
        "        # Time to reach the activation point\n",
        "        time_to_point = time_to_reach(0, point)\n",
        "\n",
        "        # Calculate the position of the initial robot after reaching the point\n",
        "        initial_robot_position = (time_to_point * K) % L\n",
        "\n",
        "        # Calculate the time to wait for the initial robot to reach the correct position\n",
        "        wait_time = (distance_between_robots - initial_robot_position) % distance_between_robots\n",
        "\n",
        "        # Total time is the sum of time to reach the point and the wait time\n",
        "        total_time = time_to_point + wait_time * K\n",
        "\n",
        "        # Update the minimum time\n",
        "        min_time = min(min_time, total_time)\n",
        "\n",
        "    return min_time"
      ],
      "metadata": {
        "id": "M2va4AV-M1mf"
      },
      "execution_count": 23,
      "outputs": []
    },
    {
      "cell_type": "markdown",
      "source": [
        "*AgentGPT result test*"
      ],
      "metadata": {
        "id": "h8a6xqEwPMYz"
      }
    },
    {
      "cell_type": "code",
      "source": [
        "def test_min_time_to_place_robots():\n",
        "    test_cases = [\n",
        "        ((10, 2, 1, 2, [6]), 22),\n",
        "        ((10, 2, 1, 2, [7]), 4),\n",
        "        ((32, 4, 5, 2, [0, 23, 12, 5, 11]), 48),\n",
        "        ((24, 3, 1, 2, [16]), 48)\n",
        "    ]\n",
        "\n",
        "    failed_tests = 0\n",
        "\n",
        "    for i, (inputs, expected) in enumerate(test_cases):\n",
        "        L, R, N, K, activation_points = inputs\n",
        "        result = min_time_to_place_robots(L, R, N, K, activation_points)\n",
        "        if result != expected:\n",
        "            print(f\"Test case {i+1} failed: expected {expected}, got {result}\")\n",
        "            failed_tests += 1\n",
        "        else:\n",
        "            print(f\"Test case {i+1} passed!\")\n",
        "\n",
        "    print(f\"\\nTesting complete: {len(test_cases)} cases run, {failed_tests} failed.\")\n",
        "\n",
        "test_min_time_to_place_robots()"
      ],
      "metadata": {
        "colab": {
          "base_uri": "https://localhost:8080/"
        },
        "id": "PNwH1TjRM_SL",
        "outputId": "7e8cb512-6598-45f7-f597-cb976c016cba"
      },
      "execution_count": 24,
      "outputs": [
        {
          "output_type": "stream",
          "name": "stdout",
          "text": [
            "Test case 1 failed: expected 22, got 8\n",
            "Test case 2 failed: expected 4, got 11\n",
            "Test case 3 failed: expected 48, got 0\n",
            "Test case 4 failed: expected 48, got 8\n",
            "\n",
            "Testing complete: 4 cases run, 4 failed.\n"
          ]
        }
      ]
    },
    {
      "cell_type": "markdown",
      "source": [
        "*Compare the performance of two GenAI models*"
      ],
      "metadata": {
        "id": "KfQVvmUkQZcP"
      }
    },
    {
      "cell_type": "code",
      "source": [
        "import time\n",
        "\n",
        "def performance_comparison():\n",
        "    test_data = [\n",
        "        (\"10 2 1 2\\n6\", 22),\n",
        "        (\"10 2 1 2\\n7\", 4),\n",
        "        (\"32 4 5 2\\n0 23 12 5 11\", 48),\n",
        "        (\"24 3 1 2\\n16\", 48),\n",
        "    ]\n",
        "\n",
        "    def parse_input(input_data):\n",
        "        input_lines = input_data.split(\"\\n\")\n",
        "        L, R, N, K = map(int, input_lines[0].split())\n",
        "        activation_points = list(map(int, input_lines[1].split()))\n",
        "        return L, R, N, K, activation_points\n",
        "\n",
        "    print(\"Performance Comparison:\\n\")\n",
        "    for i, (input_data, expected_output) in enumerate(test_data, start=1):\n",
        "        print(f\"Test Case {i}:\")\n",
        "        print(f\"Input:\\n{input_data}\")\n",
        "        print(\"Expected Output:\", expected_output)\n",
        "\n",
        "        L, R, N, K, activation_points = parse_input(input_data)\n",
        "\n",
        "        start_time = time.time()\n",
        "        result_1 = compute_minimum_time(L, R, N, K, activation_points)\n",
        "        time_1 = time.time() - start_time\n",
        "\n",
        "        start_time = time.time()\n",
        "        result_2 = min_time_to_place_robots(L, R, N, K, activation_points)\n",
        "        time_2 = time.time() - start_time\n",
        "\n",
        "        print(f\"ChatGPT: Result = {result_1}, Time = {time_1:.6f} seconds\")\n",
        "        print(f\"AgentGPT: Result = {result_2}, Time = {time_2:.6f} seconds\")\n",
        "\n",
        "        if result_1 != expected_output:\n",
        "            print(\"ChatGPT: FAILED\")\n",
        "        if result_2 != expected_output:\n",
        "            print(\"AgentGPT: FAILED\")\n",
        "\n",
        "        if time_1 < time_2:\n",
        "            print(\"ChatGPT is faster\\n\")\n",
        "        elif time_1 > time_2:\n",
        "            print(\"AgentGPT is faster\\n\")\n",
        "        else:\n",
        "            print(\"Both GenAI have similar performance\\n\")\n",
        "\n",
        "performance_comparison()"
      ],
      "metadata": {
        "colab": {
          "base_uri": "https://localhost:8080/"
        },
        "id": "1_RgGqUzQDRT",
        "outputId": "7f2f6810-c57f-44fe-80aa-252aacbc442c"
      },
      "execution_count": 25,
      "outputs": [
        {
          "output_type": "stream",
          "name": "stdout",
          "text": [
            "Performance Comparison:\n",
            "\n",
            "Test Case 1:\n",
            "Input:\n",
            "10 2 1 2\n",
            "6\n",
            "Expected Output: 22\n",
            "ChatGPT: Result = 12, Time = 0.000018 seconds\n",
            "AgentGPT: Result = 8, Time = 0.000007 seconds\n",
            "ChatGPT: FAILED\n",
            "AgentGPT: FAILED\n",
            "AgentGPT is faster\n",
            "\n",
            "Test Case 2:\n",
            "Input:\n",
            "10 2 1 2\n",
            "7\n",
            "Expected Output: 4\n",
            "ChatGPT: Result = 9, Time = 0.000019 seconds\n",
            "AgentGPT: Result = 11, Time = 0.000006 seconds\n",
            "ChatGPT: FAILED\n",
            "AgentGPT: FAILED\n",
            "AgentGPT is faster\n",
            "\n",
            "Test Case 3:\n",
            "Input:\n",
            "32 4 5 2\n",
            "0 23 12 5 11\n",
            "Expected Output: 48\n",
            "ChatGPT: Result = 0, Time = 0.000034 seconds\n",
            "AgentGPT: Result = 0, Time = 0.000013 seconds\n",
            "ChatGPT: FAILED\n",
            "AgentGPT: FAILED\n",
            "AgentGPT is faster\n",
            "\n",
            "Test Case 4:\n",
            "Input:\n",
            "24 3 1 2\n",
            "16\n",
            "Expected Output: 48\n",
            "ChatGPT: Result = 24, Time = 0.000008 seconds\n",
            "AgentGPT: Result = 8, Time = 0.000004 seconds\n",
            "ChatGPT: FAILED\n",
            "AgentGPT: FAILED\n",
            "AgentGPT is faster\n",
            "\n"
          ]
        }
      ]
    },
    {
      "cell_type": "markdown",
      "source": [
        "*Plot the performance of the GenAI models*"
      ],
      "metadata": {
        "id": "3NIXULivSaX7"
      }
    },
    {
      "cell_type": "code",
      "source": [
        "import matplotlib.pyplot as plt\n",
        "\n",
        "def compare_solutions():\n",
        "    test_cases = [\n",
        "        (10, 2, 1, 2, [6]),\n",
        "        (10, 2, 1, 2, [7]),\n",
        "        (32, 4, 5, 2, [0, 23, 12, 5, 11]),\n",
        "        (24, 3, 1, 2, [16])\n",
        "    ]\n",
        "\n",
        "    results_1 = []\n",
        "    results_2 = []\n",
        "\n",
        "    for L, R, N, K, activation_points in test_cases:\n",
        "        result_1 = min_time_to_place_robots(L, R, N, K, activation_points)\n",
        "        result_2 = compute_minimum_time(L, R, N, K, activation_points)\n",
        "        results_1.append(result_1)\n",
        "        results_2.append(result_2)\n",
        "\n",
        "    return results_1, results_2\n",
        "\n",
        "def plot_results(results_1, results_2):\n",
        "    test_case_labels = ['Test Case 1', 'Test Case 2', 'Test Case 3', 'Test Case 4']\n",
        "    x = range(len(test_case_labels))\n",
        "\n",
        "    plt.figure(figsize=(10, 5))\n",
        "    plt.plot(x, results_1, label='min_time_to_place_robots', marker='o')\n",
        "    plt.plot(x, results_2, label='compute_minimum_time', marker='x')\n",
        "    plt.xticks(x, test_case_labels)\n",
        "    plt.xlabel('Test Cases')\n",
        "    plt.ylabel('Time')\n",
        "    plt.title('Comparison of Two Solutions')\n",
        "    plt.legend()\n",
        "    plt.grid(True)\n",
        "    plt.show()\n",
        "\n",
        "results_1, results_2 = compare_solutions()\n",
        "plot_results(results_1, results_2)"
      ],
      "metadata": {
        "colab": {
          "base_uri": "https://localhost:8080/",
          "height": 487
        },
        "id": "SZfRMszYSTXd",
        "outputId": "924e9b8a-7cc4-4ade-a10d-5c3bd96c483c"
      },
      "execution_count": 26,
      "outputs": [
        {
          "output_type": "display_data",
          "data": {
            "text/plain": [
              "<Figure size 1000x500 with 1 Axes>"
            ],
            "image/png": "[encoded data removed]"
          },
          "metadata": {}
        }
      ]
    }
  ]
}